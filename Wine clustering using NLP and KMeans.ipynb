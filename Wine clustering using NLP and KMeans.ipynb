{
 "cells": [
  {
   "cell_type": "code",
   "execution_count": 0,
   "metadata": {
    "application/vnd.databricks.v1+cell": {
     "cellMetadata": {
      "byteLimit": 2048000,
      "rowLimit": 10000
     },
     "inputWidgets": {},
     "nuid": "867d99b7-a204-44b8-8d6b-3f8744e090cd",
     "showTitle": false,
     "title": ""
    }
   },
   "outputs": [],
   "source": [
    "import numpy as np \n",
    "import pandas as pd \n",
    "import matplotlib.pyplot as plt\n",
    "import seaborn as sns\n",
    "from sklearn.feature_extraction import text\n",
    "from sklearn.feature_extraction.text import TfidfVectorizer\n",
    "from sklearn.cluster import KMeans\n",
    "from nltk.tokenize import RegexpTokenizer\n",
    "from nltk.stem.snowball import SnowballStemmer\n",
    "%matplotlib inline"
   ]
  },
  {
   "cell_type": "code",
   "execution_count": 0,
   "metadata": {
    "application/vnd.databricks.v1+cell": {
     "cellMetadata": {
      "byteLimit": 2048000,
      "rowLimit": 10000
     },
     "inputWidgets": {},
     "nuid": "1b816607-e1bf-41ba-85f5-f2822dc62e49",
     "showTitle": false,
     "title": ""
    }
   },
   "outputs": [
    {
     "output_type": "display_data",
     "data": {
      "text/html": [
       "<div>\n",
       "<style scoped>\n",
       "    .dataframe tbody tr th:only-of-type {\n",
       "        vertical-align: middle;\n",
       "    }\n",
       "\n",
       "    .dataframe tbody tr th {\n",
       "        vertical-align: top;\n",
       "    }\n",
       "\n",
       "    .dataframe thead th {\n",
       "        text-align: right;\n",
       "    }\n",
       "</style>\n",
       "<table border=\"1\" class=\"dataframe\">\n",
       "  <thead>\n",
       "    <tr style=\"text-align: right;\">\n",
       "      <th></th>\n",
       "      <th>Unnamed: 0</th>\n",
       "      <th>country</th>\n",
       "      <th>description</th>\n",
       "      <th>designation</th>\n",
       "      <th>points</th>\n",
       "      <th>price</th>\n",
       "      <th>province</th>\n",
       "      <th>region_1</th>\n",
       "      <th>region_2</th>\n",
       "      <th>variety</th>\n",
       "      <th>winery</th>\n",
       "    </tr>\n",
       "  </thead>\n",
       "  <tbody>\n",
       "    <tr>\n",
       "      <th>0</th>\n",
       "      <td>0</td>\n",
       "      <td>US</td>\n",
       "      <td>This tremendous 100% varietal wine hails from ...</td>\n",
       "      <td>Martha's Vineyard</td>\n",
       "      <td>96</td>\n",
       "      <td>235.0</td>\n",
       "      <td>California</td>\n",
       "      <td>Napa Valley</td>\n",
       "      <td>Napa</td>\n",
       "      <td>Cabernet Sauvignon</td>\n",
       "      <td>Heitz</td>\n",
       "    </tr>\n",
       "    <tr>\n",
       "      <th>1</th>\n",
       "      <td>1</td>\n",
       "      <td>Spain</td>\n",
       "      <td>Ripe aromas of fig, blackberry and cassis are ...</td>\n",
       "      <td>Carodorum Selección Especial Reserva</td>\n",
       "      <td>96</td>\n",
       "      <td>110.0</td>\n",
       "      <td>Northern Spain</td>\n",
       "      <td>Toro</td>\n",
       "      <td>NaN</td>\n",
       "      <td>Tinta de Toro</td>\n",
       "      <td>Bodega Carmen Rodríguez</td>\n",
       "    </tr>\n",
       "    <tr>\n",
       "      <th>2</th>\n",
       "      <td>2</td>\n",
       "      <td>US</td>\n",
       "      <td>Mac Watson honors the memory of a wine once ma...</td>\n",
       "      <td>Special Selected Late Harvest</td>\n",
       "      <td>96</td>\n",
       "      <td>90.0</td>\n",
       "      <td>California</td>\n",
       "      <td>Knights Valley</td>\n",
       "      <td>Sonoma</td>\n",
       "      <td>Sauvignon Blanc</td>\n",
       "      <td>Macauley</td>\n",
       "    </tr>\n",
       "    <tr>\n",
       "      <th>3</th>\n",
       "      <td>3</td>\n",
       "      <td>US</td>\n",
       "      <td>This spent 20 months in 30% new French oak, an...</td>\n",
       "      <td>Reserve</td>\n",
       "      <td>96</td>\n",
       "      <td>65.0</td>\n",
       "      <td>Oregon</td>\n",
       "      <td>Willamette Valley</td>\n",
       "      <td>Willamette Valley</td>\n",
       "      <td>Pinot Noir</td>\n",
       "      <td>Ponzi</td>\n",
       "    </tr>\n",
       "    <tr>\n",
       "      <th>4</th>\n",
       "      <td>4</td>\n",
       "      <td>France</td>\n",
       "      <td>This is the top wine from La Bégude, named aft...</td>\n",
       "      <td>La Brûlade</td>\n",
       "      <td>95</td>\n",
       "      <td>66.0</td>\n",
       "      <td>Provence</td>\n",
       "      <td>Bandol</td>\n",
       "      <td>NaN</td>\n",
       "      <td>Provence red blend</td>\n",
       "      <td>Domaine de la Bégude</td>\n",
       "    </tr>\n",
       "  </tbody>\n",
       "</table>\n",
       "</div>"
      ]
     },
     "metadata": {
      "application/vnd.databricks.v1+output": {
       "addedWidgets": {},
       "arguments": {},
       "data": "<div>\n<style scoped>\n    .dataframe tbody tr th:only-of-type {\n        vertical-align: middle;\n    }\n\n    .dataframe tbody tr th {\n        vertical-align: top;\n    }\n\n    .dataframe thead th {\n        text-align: right;\n    }\n</style>\n<table border=\"1\" class=\"dataframe\">\n  <thead>\n    <tr style=\"text-align: right;\">\n      <th></th>\n      <th>Unnamed: 0</th>\n      <th>country</th>\n      <th>description</th>\n      <th>designation</th>\n      <th>points</th>\n      <th>price</th>\n      <th>province</th>\n      <th>region_1</th>\n      <th>region_2</th>\n      <th>variety</th>\n      <th>winery</th>\n    </tr>\n  </thead>\n  <tbody>\n    <tr>\n      <th>0</th>\n      <td>0</td>\n      <td>US</td>\n      <td>This tremendous 100% varietal wine hails from ...</td>\n      <td>Martha's Vineyard</td>\n      <td>96</td>\n      <td>235.0</td>\n      <td>California</td>\n      <td>Napa Valley</td>\n      <td>Napa</td>\n      <td>Cabernet Sauvignon</td>\n      <td>Heitz</td>\n    </tr>\n    <tr>\n      <th>1</th>\n      <td>1</td>\n      <td>Spain</td>\n      <td>Ripe aromas of fig, blackberry and cassis are ...</td>\n      <td>Carodorum Selección Especial Reserva</td>\n      <td>96</td>\n      <td>110.0</td>\n      <td>Northern Spain</td>\n      <td>Toro</td>\n      <td>NaN</td>\n      <td>Tinta de Toro</td>\n      <td>Bodega Carmen Rodríguez</td>\n    </tr>\n    <tr>\n      <th>2</th>\n      <td>2</td>\n      <td>US</td>\n      <td>Mac Watson honors the memory of a wine once ma...</td>\n      <td>Special Selected Late Harvest</td>\n      <td>96</td>\n      <td>90.0</td>\n      <td>California</td>\n      <td>Knights Valley</td>\n      <td>Sonoma</td>\n      <td>Sauvignon Blanc</td>\n      <td>Macauley</td>\n    </tr>\n    <tr>\n      <th>3</th>\n      <td>3</td>\n      <td>US</td>\n      <td>This spent 20 months in 30% new French oak, an...</td>\n      <td>Reserve</td>\n      <td>96</td>\n      <td>65.0</td>\n      <td>Oregon</td>\n      <td>Willamette Valley</td>\n      <td>Willamette Valley</td>\n      <td>Pinot Noir</td>\n      <td>Ponzi</td>\n    </tr>\n    <tr>\n      <th>4</th>\n      <td>4</td>\n      <td>France</td>\n      <td>This is the top wine from La Bégude, named aft...</td>\n      <td>La Brûlade</td>\n      <td>95</td>\n      <td>66.0</td>\n      <td>Provence</td>\n      <td>Bandol</td>\n      <td>NaN</td>\n      <td>Provence red blend</td>\n      <td>Domaine de la Bégude</td>\n    </tr>\n  </tbody>\n</table>\n</div>",
       "datasetInfos": [],
       "metadata": {},
       "removedWidgets": [],
       "textData": null,
       "type": "htmlSandbox"
      }
     },
     "output_type": "display_data"
    }
   ],
   "source": [
    "wine_df = pd.read_csv('/dbfs/FileStore/tables/hirak/R&R/NLP/winemag_data_first150k.csv')\n",
    "wine_df.head()"
   ]
  },
  {
   "cell_type": "markdown",
   "metadata": {
    "application/vnd.databricks.v1+cell": {
     "cellMetadata": {
      "byteLimit": 2048000,
      "rowLimit": 10000
     },
     "inputWidgets": {},
     "nuid": "1c37e05a-841c-464f-8314-1b982f22b995",
     "showTitle": false,
     "title": ""
    }
   },
   "source": [
    "####Exploratory Data Analysis\n",
    "The first check is to see where values are missing. Luckily there isn't any data missing in the description and variety columns, which are the main columns I need for this analysis. There are 5 missing values for country that I originally filled in by looking at which winery was listed with these missing values, then looked up other entries with that same winery to determine country. I wanted to do this because I was thinking of exploring what words are used to describe wines from various countries but scratched this idea and decided to focus only on the different varieties."
   ]
  },
  {
   "cell_type": "code",
   "execution_count": 0,
   "metadata": {
    "application/vnd.databricks.v1+cell": {
     "cellMetadata": {
      "byteLimit": 2048000,
      "rowLimit": 10000
     },
     "inputWidgets": {},
     "nuid": "347b1568-6a63-4696-8e42-5cad6750cb33",
     "showTitle": false,
     "title": ""
    }
   },
   "outputs": [
    {
     "output_type": "stream",
     "name": "stdout",
     "output_type": "stream",
     "text": [
      "<class 'pandas.core.frame.DataFrame'>\nRangeIndex: 150930 entries, 0 to 150929\nData columns (total 11 columns):\n #   Column       Non-Null Count   Dtype  \n---  ------       --------------   -----  \n 0   Unnamed: 0   150930 non-null  int64  \n 1   country      150925 non-null  object \n 2   description  150930 non-null  object \n 3   designation  105195 non-null  object \n 4   points       150930 non-null  int64  \n 5   price        137235 non-null  float64\n 6   province     150925 non-null  object \n 7   region_1     125870 non-null  object \n 8   region_2     60953 non-null   object \n 9   variety      150930 non-null  object \n 10  winery       150930 non-null  object \ndtypes: float64(1), int64(2), object(8)\nmemory usage: 12.7+ MB\n"
     ]
    }
   ],
   "source": [
    "wine_df.info()"
   ]
  },
  {
   "cell_type": "markdown",
   "metadata": {
    "application/vnd.databricks.v1+cell": {
     "cellMetadata": {
      "byteLimit": 2048000,
      "rowLimit": 10000
     },
     "inputWidgets": {},
     "nuid": "4db2e7e4-5d4e-4d5a-929d-4d0f88abba60",
     "showTitle": false,
     "title": ""
    }
   },
   "source": [
    "As we can see, there are some duplicates with the descriptions. Although the duplicates won't affect the averaging used to find the kMeans centroids, I still decided to remove them because I only need unique descriptions to perform the clustering. Note that dropping duplicates will still keep one of those entries in the set."
   ]
  },
  {
   "cell_type": "code",
   "execution_count": 0,
   "metadata": {
    "application/vnd.databricks.v1+cell": {
     "cellMetadata": {
      "byteLimit": 2048000,
      "rowLimit": 10000
     },
     "inputWidgets": {},
     "nuid": "d47970e8-f555-4515-97ed-8bce799c31be",
     "showTitle": false,
     "title": ""
    }
   },
   "outputs": [
    {
     "output_type": "display_data",
     "data": {
      "text/html": [
       "<div>\n",
       "<style scoped>\n",
       "    .dataframe tbody tr th:only-of-type {\n",
       "        vertical-align: middle;\n",
       "    }\n",
       "\n",
       "    .dataframe tbody tr th {\n",
       "        vertical-align: top;\n",
       "    }\n",
       "\n",
       "    .dataframe thead th {\n",
       "        text-align: right;\n",
       "    }\n",
       "</style>\n",
       "<table border=\"1\" class=\"dataframe\">\n",
       "  <thead>\n",
       "    <tr style=\"text-align: right;\">\n",
       "      <th></th>\n",
       "      <th>Unnamed: 0</th>\n",
       "      <th>country</th>\n",
       "      <th>description</th>\n",
       "      <th>designation</th>\n",
       "      <th>points</th>\n",
       "      <th>price</th>\n",
       "      <th>province</th>\n",
       "      <th>region_1</th>\n",
       "      <th>region_2</th>\n",
       "      <th>variety</th>\n",
       "      <th>winery</th>\n",
       "    </tr>\n",
       "  </thead>\n",
       "  <tbody>\n",
       "    <tr>\n",
       "      <th>147725</th>\n",
       "      <td>147725</td>\n",
       "      <td>Chile</td>\n",
       "      <td>$11. Opens with a highly perfumed bouquet of l...</td>\n",
       "      <td>Estate Reserve</td>\n",
       "      <td>84</td>\n",
       "      <td>11.0</td>\n",
       "      <td>Maipo Valley</td>\n",
       "      <td>NaN</td>\n",
       "      <td>NaN</td>\n",
       "      <td>Chardonnay</td>\n",
       "      <td>La Playa</td>\n",
       "    </tr>\n",
       "    <tr>\n",
       "      <th>62345</th>\n",
       "      <td>62345</td>\n",
       "      <td>Chile</td>\n",
       "      <td>$11. Opens with a highly perfumed bouquet of l...</td>\n",
       "      <td>Estate Reserve</td>\n",
       "      <td>84</td>\n",
       "      <td>11.0</td>\n",
       "      <td>Maipo Valley</td>\n",
       "      <td>NaN</td>\n",
       "      <td>NaN</td>\n",
       "      <td>Chardonnay</td>\n",
       "      <td>La Playa</td>\n",
       "    </tr>\n",
       "    <tr>\n",
       "      <th>74993</th>\n",
       "      <td>74993</td>\n",
       "      <td>US</td>\n",
       "      <td>). Very good wine from a winery increasingly k...</td>\n",
       "      <td>Rockpile Ridge Vineyard</td>\n",
       "      <td>92</td>\n",
       "      <td>47.0</td>\n",
       "      <td>California</td>\n",
       "      <td>Rockpile</td>\n",
       "      <td>Sonoma</td>\n",
       "      <td>Cabernet Sauvignon</td>\n",
       "      <td>Mauritson</td>\n",
       "    </tr>\n",
       "    <tr>\n",
       "      <th>18803</th>\n",
       "      <td>18803</td>\n",
       "      <td>US</td>\n",
       "      <td>). Very good wine from a winery increasingly k...</td>\n",
       "      <td>Rockpile Ridge Vineyard</td>\n",
       "      <td>92</td>\n",
       "      <td>47.0</td>\n",
       "      <td>California</td>\n",
       "      <td>Rockpile</td>\n",
       "      <td>Sonoma</td>\n",
       "      <td>Cabernet Sauvignon</td>\n",
       "      <td>Mauritson</td>\n",
       "    </tr>\n",
       "    <tr>\n",
       "      <th>26530</th>\n",
       "      <td>26530</td>\n",
       "      <td>Austria</td>\n",
       "      <td>. Christoph Neumeister's top wine, this is a c...</td>\n",
       "      <td>Moarfeitl</td>\n",
       "      <td>93</td>\n",
       "      <td>48.0</td>\n",
       "      <td>Südoststeiermark</td>\n",
       "      <td>NaN</td>\n",
       "      <td>NaN</td>\n",
       "      <td>Sauvignon Blanc</td>\n",
       "      <td>Neumeister</td>\n",
       "    </tr>\n",
       "    <tr>\n",
       "      <th>84730</th>\n",
       "      <td>84730</td>\n",
       "      <td>Austria</td>\n",
       "      <td>. Christoph Neumeister's top wine, this is a c...</td>\n",
       "      <td>Moarfeitl</td>\n",
       "      <td>93</td>\n",
       "      <td>48.0</td>\n",
       "      <td>Südoststeiermark</td>\n",
       "      <td>NaN</td>\n",
       "      <td>NaN</td>\n",
       "      <td>Sauvignon Blanc</td>\n",
       "      <td>Neumeister</td>\n",
       "    </tr>\n",
       "    <tr>\n",
       "      <th>53110</th>\n",
       "      <td>53110</td>\n",
       "      <td>Austria</td>\n",
       "      <td>. Christoph Neumeister's top wine, this is a c...</td>\n",
       "      <td>Moarfeitl</td>\n",
       "      <td>93</td>\n",
       "      <td>48.0</td>\n",
       "      <td>Südoststeiermark</td>\n",
       "      <td>NaN</td>\n",
       "      <td>NaN</td>\n",
       "      <td>Sauvignon Blanc</td>\n",
       "      <td>Neumeister</td>\n",
       "    </tr>\n",
       "    <tr>\n",
       "      <th>107351</th>\n",
       "      <td>107351</td>\n",
       "      <td>France</td>\n",
       "      <td>. From a small south-facing parcel next to the...</td>\n",
       "      <td>Trie Spéciale</td>\n",
       "      <td>91</td>\n",
       "      <td>38.0</td>\n",
       "      <td>Loire Valley</td>\n",
       "      <td>Savennières</td>\n",
       "      <td>NaN</td>\n",
       "      <td>Chenin Blanc</td>\n",
       "      <td>Domaine des Baumard</td>\n",
       "    </tr>\n",
       "    <tr>\n",
       "      <th>65231</th>\n",
       "      <td>65231</td>\n",
       "      <td>France</td>\n",
       "      <td>. From a small south-facing parcel next to the...</td>\n",
       "      <td>Trie Spéciale</td>\n",
       "      <td>91</td>\n",
       "      <td>38.0</td>\n",
       "      <td>Loire Valley</td>\n",
       "      <td>Savennières</td>\n",
       "      <td>NaN</td>\n",
       "      <td>Chenin Blanc</td>\n",
       "      <td>Domaine des Baumard</td>\n",
       "    </tr>\n",
       "    <tr>\n",
       "      <th>43074</th>\n",
       "      <td>43074</td>\n",
       "      <td>Germany</td>\n",
       "      <td>. Lemon zest and exotic spices enliven the nos...</td>\n",
       "      <td>Bernkasteler Badstube Kabinett</td>\n",
       "      <td>86</td>\n",
       "      <td>22.0</td>\n",
       "      <td>Mosel</td>\n",
       "      <td>NaN</td>\n",
       "      <td>NaN</td>\n",
       "      <td>Riesling</td>\n",
       "      <td>Dr. Pauly Bergweiler</td>\n",
       "    </tr>\n",
       "    <tr>\n",
       "      <th>102414</th>\n",
       "      <td>102414</td>\n",
       "      <td>Germany</td>\n",
       "      <td>. Lemon zest and exotic spices enliven the nos...</td>\n",
       "      <td>Bernkasteler Badstube Kabinett</td>\n",
       "      <td>86</td>\n",
       "      <td>22.0</td>\n",
       "      <td>Mosel</td>\n",
       "      <td>NaN</td>\n",
       "      <td>NaN</td>\n",
       "      <td>Riesling</td>\n",
       "      <td>Dr. Pauly Bergweiler</td>\n",
       "    </tr>\n",
       "    <tr>\n",
       "      <th>71776</th>\n",
       "      <td>71776</td>\n",
       "      <td>Argentina</td>\n",
       "      <td>. Pencil eraser, tomato leaf and sweet fruit a...</td>\n",
       "      <td>NaN</td>\n",
       "      <td>83</td>\n",
       "      <td>9.0</td>\n",
       "      <td>Mendoza Province</td>\n",
       "      <td>Mendoza</td>\n",
       "      <td>NaN</td>\n",
       "      <td>Cabernet Sauvignon</td>\n",
       "      <td>Fantelli</td>\n",
       "    </tr>\n",
       "    <tr>\n",
       "      <th>17926</th>\n",
       "      <td>17926</td>\n",
       "      <td>Argentina</td>\n",
       "      <td>. Pencil eraser, tomato leaf and sweet fruit a...</td>\n",
       "      <td>NaN</td>\n",
       "      <td>83</td>\n",
       "      <td>9.0</td>\n",
       "      <td>Mendoza Province</td>\n",
       "      <td>Mendoza</td>\n",
       "      <td>NaN</td>\n",
       "      <td>Cabernet Sauvignon</td>\n",
       "      <td>Fantelli</td>\n",
       "    </tr>\n",
       "    <tr>\n",
       "      <th>71057</th>\n",
       "      <td>71057</td>\n",
       "      <td>Spain</td>\n",
       "      <td>. Stand up and take note: this is great wine f...</td>\n",
       "      <td>NaN</td>\n",
       "      <td>96</td>\n",
       "      <td>85.0</td>\n",
       "      <td>Catalonia</td>\n",
       "      <td>Priorat</td>\n",
       "      <td>NaN</td>\n",
       "      <td>Red Blend</td>\n",
       "      <td>Vall Llach</td>\n",
       "    </tr>\n",
       "    <tr>\n",
       "      <th>143627</th>\n",
       "      <td>143627</td>\n",
       "      <td>Spain</td>\n",
       "      <td>. Stand up and take note: this is great wine f...</td>\n",
       "      <td>NaN</td>\n",
       "      <td>96</td>\n",
       "      <td>85.0</td>\n",
       "      <td>Catalonia</td>\n",
       "      <td>Priorat</td>\n",
       "      <td>NaN</td>\n",
       "      <td>Red Blend</td>\n",
       "      <td>Vall Llach</td>\n",
       "    </tr>\n",
       "    <tr>\n",
       "      <th>132464</th>\n",
       "      <td>132464</td>\n",
       "      <td>Australia</td>\n",
       "      <td>. Starts off nicely, with aromas of dark choco...</td>\n",
       "      <td>Presidents Selection</td>\n",
       "      <td>87</td>\n",
       "      <td>19.0</td>\n",
       "      <td>South Australia</td>\n",
       "      <td>South Australia</td>\n",
       "      <td>NaN</td>\n",
       "      <td>Cabernet Sauvignon</td>\n",
       "      <td>Wolf Blass</td>\n",
       "    </tr>\n",
       "    <tr>\n",
       "      <th>117434</th>\n",
       "      <td>117434</td>\n",
       "      <td>Australia</td>\n",
       "      <td>. Starts off nicely, with aromas of dark choco...</td>\n",
       "      <td>Presidents Selection</td>\n",
       "      <td>87</td>\n",
       "      <td>19.0</td>\n",
       "      <td>South Australia</td>\n",
       "      <td>South Australia</td>\n",
       "      <td>NaN</td>\n",
       "      <td>Cabernet Sauvignon</td>\n",
       "      <td>Wolf Blass</td>\n",
       "    </tr>\n",
       "    <tr>\n",
       "      <th>71787</th>\n",
       "      <td>71787</td>\n",
       "      <td>Argentina</td>\n",
       "      <td>. The citrus and grapefruit aromas come across...</td>\n",
       "      <td>NaN</td>\n",
       "      <td>83</td>\n",
       "      <td>14.0</td>\n",
       "      <td>Mendoza Province</td>\n",
       "      <td>Mendoza</td>\n",
       "      <td>NaN</td>\n",
       "      <td>Sauvignon Blanc</td>\n",
       "      <td>Zolo</td>\n",
       "    </tr>\n",
       "    <tr>\n",
       "      <th>17937</th>\n",
       "      <td>17937</td>\n",
       "      <td>Argentina</td>\n",
       "      <td>. The citrus and grapefruit aromas come across...</td>\n",
       "      <td>NaN</td>\n",
       "      <td>83</td>\n",
       "      <td>14.0</td>\n",
       "      <td>Mendoza Province</td>\n",
       "      <td>Mendoza</td>\n",
       "      <td>NaN</td>\n",
       "      <td>Sauvignon Blanc</td>\n",
       "      <td>Zolo</td>\n",
       "    </tr>\n",
       "    <tr>\n",
       "      <th>47141</th>\n",
       "      <td>47141</td>\n",
       "      <td>Italy</td>\n",
       "      <td>. The wine is easy, fresh and redolent of wild...</td>\n",
       "      <td>NaN</td>\n",
       "      <td>88</td>\n",
       "      <td>14.0</td>\n",
       "      <td>Tuscany</td>\n",
       "      <td>Toscana</td>\n",
       "      <td>NaN</td>\n",
       "      <td>Cabernet Sauvignon</td>\n",
       "      <td>Tenuta di Trecciano</td>\n",
       "    </tr>\n",
       "  </tbody>\n",
       "</table>\n",
       "</div>"
      ]
     },
     "metadata": {
      "application/vnd.databricks.v1+output": {
       "addedWidgets": {},
       "arguments": {},
       "data": "<div>\n<style scoped>\n    .dataframe tbody tr th:only-of-type {\n        vertical-align: middle;\n    }\n\n    .dataframe tbody tr th {\n        vertical-align: top;\n    }\n\n    .dataframe thead th {\n        text-align: right;\n    }\n</style>\n<table border=\"1\" class=\"dataframe\">\n  <thead>\n    <tr style=\"text-align: right;\">\n      <th></th>\n      <th>Unnamed: 0</th>\n      <th>country</th>\n      <th>description</th>\n      <th>designation</th>\n      <th>points</th>\n      <th>price</th>\n      <th>province</th>\n      <th>region_1</th>\n      <th>region_2</th>\n      <th>variety</th>\n      <th>winery</th>\n    </tr>\n  </thead>\n  <tbody>\n    <tr>\n      <th>147725</th>\n      <td>147725</td>\n      <td>Chile</td>\n      <td>$11. Opens with a highly perfumed bouquet of l...</td>\n      <td>Estate Reserve</td>\n      <td>84</td>\n      <td>11.0</td>\n      <td>Maipo Valley</td>\n      <td>NaN</td>\n      <td>NaN</td>\n      <td>Chardonnay</td>\n      <td>La Playa</td>\n    </tr>\n    <tr>\n      <th>62345</th>\n      <td>62345</td>\n      <td>Chile</td>\n      <td>$11. Opens with a highly perfumed bouquet of l...</td>\n      <td>Estate Reserve</td>\n      <td>84</td>\n      <td>11.0</td>\n      <td>Maipo Valley</td>\n      <td>NaN</td>\n      <td>NaN</td>\n      <td>Chardonnay</td>\n      <td>La Playa</td>\n    </tr>\n    <tr>\n      <th>74993</th>\n      <td>74993</td>\n      <td>US</td>\n      <td>). Very good wine from a winery increasingly k...</td>\n      <td>Rockpile Ridge Vineyard</td>\n      <td>92</td>\n      <td>47.0</td>\n      <td>California</td>\n      <td>Rockpile</td>\n      <td>Sonoma</td>\n      <td>Cabernet Sauvignon</td>\n      <td>Mauritson</td>\n    </tr>\n    <tr>\n      <th>18803</th>\n      <td>18803</td>\n      <td>US</td>\n      <td>). Very good wine from a winery increasingly k...</td>\n      <td>Rockpile Ridge Vineyard</td>\n      <td>92</td>\n      <td>47.0</td>\n      <td>California</td>\n      <td>Rockpile</td>\n      <td>Sonoma</td>\n      <td>Cabernet Sauvignon</td>\n      <td>Mauritson</td>\n    </tr>\n    <tr>\n      <th>26530</th>\n      <td>26530</td>\n      <td>Austria</td>\n      <td>. Christoph Neumeister's top wine, this is a c...</td>\n      <td>Moarfeitl</td>\n      <td>93</td>\n      <td>48.0</td>\n      <td>Südoststeiermark</td>\n      <td>NaN</td>\n      <td>NaN</td>\n      <td>Sauvignon Blanc</td>\n      <td>Neumeister</td>\n    </tr>\n    <tr>\n      <th>84730</th>\n      <td>84730</td>\n      <td>Austria</td>\n      <td>. Christoph Neumeister's top wine, this is a c...</td>\n      <td>Moarfeitl</td>\n      <td>93</td>\n      <td>48.0</td>\n      <td>Südoststeiermark</td>\n      <td>NaN</td>\n      <td>NaN</td>\n      <td>Sauvignon Blanc</td>\n      <td>Neumeister</td>\n    </tr>\n    <tr>\n      <th>53110</th>\n      <td>53110</td>\n      <td>Austria</td>\n      <td>. Christoph Neumeister's top wine, this is a c...</td>\n      <td>Moarfeitl</td>\n      <td>93</td>\n      <td>48.0</td>\n      <td>Südoststeiermark</td>\n      <td>NaN</td>\n      <td>NaN</td>\n      <td>Sauvignon Blanc</td>\n      <td>Neumeister</td>\n    </tr>\n    <tr>\n      <th>107351</th>\n      <td>107351</td>\n      <td>France</td>\n      <td>. From a small south-facing parcel next to the...</td>\n      <td>Trie Spéciale</td>\n      <td>91</td>\n      <td>38.0</td>\n      <td>Loire Valley</td>\n      <td>Savennières</td>\n      <td>NaN</td>\n      <td>Chenin Blanc</td>\n      <td>Domaine des Baumard</td>\n    </tr>\n    <tr>\n      <th>65231</th>\n      <td>65231</td>\n      <td>France</td>\n      <td>. From a small south-facing parcel next to the...</td>\n      <td>Trie Spéciale</td>\n      <td>91</td>\n      <td>38.0</td>\n      <td>Loire Valley</td>\n      <td>Savennières</td>\n      <td>NaN</td>\n      <td>Chenin Blanc</td>\n      <td>Domaine des Baumard</td>\n    </tr>\n    <tr>\n      <th>43074</th>\n      <td>43074</td>\n      <td>Germany</td>\n      <td>. Lemon zest and exotic spices enliven the nos...</td>\n      <td>Bernkasteler Badstube Kabinett</td>\n      <td>86</td>\n      <td>22.0</td>\n      <td>Mosel</td>\n      <td>NaN</td>\n      <td>NaN</td>\n      <td>Riesling</td>\n      <td>Dr. Pauly Bergweiler</td>\n    </tr>\n    <tr>\n      <th>102414</th>\n      <td>102414</td>\n      <td>Germany</td>\n      <td>. Lemon zest and exotic spices enliven the nos...</td>\n      <td>Bernkasteler Badstube Kabinett</td>\n      <td>86</td>\n      <td>22.0</td>\n      <td>Mosel</td>\n      <td>NaN</td>\n      <td>NaN</td>\n      <td>Riesling</td>\n      <td>Dr. Pauly Bergweiler</td>\n    </tr>\n    <tr>\n      <th>71776</th>\n      <td>71776</td>\n      <td>Argentina</td>\n      <td>. Pencil eraser, tomato leaf and sweet fruit a...</td>\n      <td>NaN</td>\n      <td>83</td>\n      <td>9.0</td>\n      <td>Mendoza Province</td>\n      <td>Mendoza</td>\n      <td>NaN</td>\n      <td>Cabernet Sauvignon</td>\n      <td>Fantelli</td>\n    </tr>\n    <tr>\n      <th>17926</th>\n      <td>17926</td>\n      <td>Argentina</td>\n      <td>. Pencil eraser, tomato leaf and sweet fruit a...</td>\n      <td>NaN</td>\n      <td>83</td>\n      <td>9.0</td>\n      <td>Mendoza Province</td>\n      <td>Mendoza</td>\n      <td>NaN</td>\n      <td>Cabernet Sauvignon</td>\n      <td>Fantelli</td>\n    </tr>\n    <tr>\n      <th>71057</th>\n      <td>71057</td>\n      <td>Spain</td>\n      <td>. Stand up and take note: this is great wine f...</td>\n      <td>NaN</td>\n      <td>96</td>\n      <td>85.0</td>\n      <td>Catalonia</td>\n      <td>Priorat</td>\n      <td>NaN</td>\n      <td>Red Blend</td>\n      <td>Vall Llach</td>\n    </tr>\n    <tr>\n      <th>143627</th>\n      <td>143627</td>\n      <td>Spain</td>\n      <td>. Stand up and take note: this is great wine f...</td>\n      <td>NaN</td>\n      <td>96</td>\n      <td>85.0</td>\n      <td>Catalonia</td>\n      <td>Priorat</td>\n      <td>NaN</td>\n      <td>Red Blend</td>\n      <td>Vall Llach</td>\n    </tr>\n    <tr>\n      <th>132464</th>\n      <td>132464</td>\n      <td>Australia</td>\n      <td>. Starts off nicely, with aromas of dark choco...</td>\n      <td>Presidents Selection</td>\n      <td>87</td>\n      <td>19.0</td>\n      <td>South Australia</td>\n      <td>South Australia</td>\n      <td>NaN</td>\n      <td>Cabernet Sauvignon</td>\n      <td>Wolf Blass</td>\n    </tr>\n    <tr>\n      <th>117434</th>\n      <td>117434</td>\n      <td>Australia</td>\n      <td>. Starts off nicely, with aromas of dark choco...</td>\n      <td>Presidents Selection</td>\n      <td>87</td>\n      <td>19.0</td>\n      <td>South Australia</td>\n      <td>South Australia</td>\n      <td>NaN</td>\n      <td>Cabernet Sauvignon</td>\n      <td>Wolf Blass</td>\n    </tr>\n    <tr>\n      <th>71787</th>\n      <td>71787</td>\n      <td>Argentina</td>\n      <td>. The citrus and grapefruit aromas come across...</td>\n      <td>NaN</td>\n      <td>83</td>\n      <td>14.0</td>\n      <td>Mendoza Province</td>\n      <td>Mendoza</td>\n      <td>NaN</td>\n      <td>Sauvignon Blanc</td>\n      <td>Zolo</td>\n    </tr>\n    <tr>\n      <th>17937</th>\n      <td>17937</td>\n      <td>Argentina</td>\n      <td>. The citrus and grapefruit aromas come across...</td>\n      <td>NaN</td>\n      <td>83</td>\n      <td>14.0</td>\n      <td>Mendoza Province</td>\n      <td>Mendoza</td>\n      <td>NaN</td>\n      <td>Sauvignon Blanc</td>\n      <td>Zolo</td>\n    </tr>\n    <tr>\n      <th>47141</th>\n      <td>47141</td>\n      <td>Italy</td>\n      <td>. The wine is easy, fresh and redolent of wild...</td>\n      <td>NaN</td>\n      <td>88</td>\n      <td>14.0</td>\n      <td>Tuscany</td>\n      <td>Toscana</td>\n      <td>NaN</td>\n      <td>Cabernet Sauvignon</td>\n      <td>Tenuta di Trecciano</td>\n    </tr>\n  </tbody>\n</table>\n</div>",
       "datasetInfos": [],
       "metadata": {},
       "removedWidgets": [],
       "textData": null,
       "type": "htmlSandbox"
      }
     },
     "output_type": "display_data"
    }
   ],
   "source": [
    "wine_df[wine_df['description'].duplicated(keep = False)].sort_values('description').head(20)"
   ]
  },
  {
   "cell_type": "code",
   "execution_count": 0,
   "metadata": {
    "application/vnd.databricks.v1+cell": {
     "cellMetadata": {
      "byteLimit": 2048000,
      "rowLimit": 10000
     },
     "inputWidgets": {},
     "nuid": "7877b0af-631c-4b5d-977f-9ae470dc0690",
     "showTitle": false,
     "title": ""
    }
   },
   "outputs": [],
   "source": [
    "wine_df = wine_df.drop_duplicates('description')"
   ]
  },
  {
   "cell_type": "markdown",
   "metadata": {
    "application/vnd.databricks.v1+cell": {
     "cellMetadata": {
      "byteLimit": 2048000,
      "rowLimit": 10000
     },
     "inputWidgets": {},
     "nuid": "d29e2115-35a6-435d-95e2-316fc4d1e830",
     "showTitle": false,
     "title": ""
    }
   },
   "source": [
    "If we list out all the unique varieties in this dataset, we find that there are a ton of them here. However, with kMeans, I want to limit the number of wine varieties to the number of clusters because I'm hoping the algorithm will be able to find individual clusters or average descriptions for each type of wine. If I limit wine varieties to those where there are more than 1500 entries in the dataset, 15 types are narrowed down. I will create a new dataframe and use descriptions only from these 15 kinds of wines.\n",
    "\n",
    "P.S.: I believe we can even use the elbow method to determine the no. of clusters, I haven't used it here since it was a quick analysis and I wasn't entirely sure if the elbow method could be applied for non-numerical data."
   ]
  },
  {
   "cell_type": "code",
   "execution_count": 0,
   "metadata": {
    "application/vnd.databricks.v1+cell": {
     "cellMetadata": {
      "byteLimit": 2048000,
      "rowLimit": 10000
     },
     "inputWidgets": {},
     "nuid": "ecc1dfba-6fed-40d7-9ce5-33d56b929a2a",
     "showTitle": false,
     "title": ""
    }
   },
   "outputs": [
    {
     "output_type": "display_data",
     "data": {
      "image/png": "[encoded data removed]"
     },
     "metadata": {
      "application/vnd.databricks.v1+output": {
       "addedWidgets": {},
       "arguments": {},
       "data": "data:image/png;base64,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\n",
       "datasetInfos": [],
       "metadata": {},
       "removedWidgets": [],
       "type": "image"
      }
     },
     "output_type": "display_data"
    }
   ],
   "source": [
    "variety_df = wine_df.groupby('variety').filter(lambda x: len(x) > 1500)\n",
    "varieties = variety_df['variety'].value_counts().index.tolist()\n",
    "fig, ax = plt.subplots(figsize = (18, 7))\n",
    "sns.countplot(x = variety_df['variety'], order = varieties, ax = ax)\n",
    "plt.xticks(rotation = 90)\n",
    "plt.show()"
   ]
  },
  {
   "cell_type": "code",
   "execution_count": 0,
   "metadata": {
    "application/vnd.databricks.v1+cell": {
     "cellMetadata": {
      "byteLimit": 2048000,
      "rowLimit": 10000
     },
     "inputWidgets": {},
     "nuid": "8ec51655-60a1-48af-9acb-cdad526b238f",
     "showTitle": false,
     "title": ""
    }
   },
   "outputs": [
    {
     "output_type": "stream",
     "name": "stdout",
     "output_type": "stream",
     "text": [
      "Out[18]: array(['Cabernet Sauvignon', 'Sauvignon Blanc', 'Pinot Noir',\n       'Chardonnay', 'Tempranillo', 'Malbec', 'Rosé', 'Syrah',\n       'Sangiovese', 'Red Blend', 'Riesling', 'White Blend', 'Zinfandel',\n       'Bordeaux-style Red Blend', 'Merlot'], dtype=object)"
     ]
    }
   ],
   "source": [
    "variety_df['variety'].unique()"
   ]
  },
  {
   "cell_type": "markdown",
   "metadata": {
    "application/vnd.databricks.v1+cell": {
     "cellMetadata": {
      "byteLimit": 2048000,
      "rowLimit": 10000
     },
     "inputWidgets": {},
     "nuid": "79fe55c3-375a-4573-803f-fb20872e9c1a",
     "showTitle": false,
     "title": ""
    }
   },
   "source": [
    "#####Natural Language Processing\n",
    "\n",
    "In Natural Language Processing, there is a term called stop words. These are tokens (NLP's definition for characters or groups of characters including words, punctuation, etc.) that are used frequently in the texts of the group of documents, or corpus, but don't really give much meaning or context to what they're being used in; they're generally used more for grammatical purposes. Examples of stop words are 'the', 'is', 'are', etc. There might be additional words that do not give much meaning to the text depending on what the situation is. I will discuss more stop words I could have used for this analysis in the conclusion but for now, I will use the English stop words list that is defaulted in the sklearn library in addition to some punctuation. When our text is being vectorized, the tokens included in the stop words list will not be included in the vectorization. Having stop words also helps us keep down the feature space.\n",
    "\n",
    "To vectorize the tokens of each description, sklearn has a count vectorizer or tf-idf (term frequency-inverse document frequency) vectorizer object that will do all of this for us. The count vectorizer simply creates a vector of counts of each word in each description. The tf-idf vectorizer, on the otherhand, takes it further by creating frequency vectors that account for how important each token is relative to the document it is in and relative to the corpus. A word might appear more than others in the same document, making it important to that piece of text. However, if that highly frequented word is in many of the other documents in the corpus, then that word does not really help distinguish that single document from the others. For this analysis, I have used the tf-idf vectorizer."
   ]
  },
  {
   "cell_type": "code",
   "execution_count": 0,
   "metadata": {
    "application/vnd.databricks.v1+cell": {
     "cellMetadata": {
      "byteLimit": 2048000,
      "rowLimit": 10000
     },
     "inputWidgets": {},
     "nuid": "198a4f1f-f88a-4b4a-8be6-f36626a3cdec",
     "showTitle": false,
     "title": ""
    }
   },
   "outputs": [],
   "source": [
    "punc = ['.', ',', '\"', \"'\", '?', '!', ':', ';', '(', ')', '[', ']', '{', '}',\"%\"]\n",
    "stop_words = text.ENGLISH_STOP_WORDS.union(punc)\n",
    "desc = variety_df['description'].values\n",
    "vectorizer = TfidfVectorizer(stop_words = stop_words)\n",
    "X = vectorizer.fit_transform(desc)"
   ]
  },
  {
   "cell_type": "markdown",
   "metadata": {
    "application/vnd.databricks.v1+cell": {
     "cellMetadata": {
      "byteLimit": 2048000,
      "rowLimit": 10000
     },
     "inputWidgets": {},
     "nuid": "83aeeb65-60cc-4d95-be45-13279f50868c",
     "showTitle": false,
     "title": ""
    }
   },
   "source": [
    "Both the count vectorizer and tf-idf vectorizer in sklearn have a method called get_feature_names(). This returns a list of all the tokens in the corpus that were vectorized for each document (note that each document will not contain all of the words extracted from the entire group so the entries in their vectors will be 0 for these tokens).\n",
    "\n",
    "Below is a subset of the tokens that were vectorized. You can see that different forms of words show up in the list such as 'abrasive', 'abrasiveness', and 'absorb', 'absorbed', 'absorbs'. In many cases these different forms of the same word are redundant, and yes, you guessed right, unnecessarily extend our feature space. Sklearn's word vectorizers do not account for these unnecessary forms by default and that is why we see them in the list below."
   ]
  },
  {
   "cell_type": "code",
   "execution_count": 0,
   "metadata": {
    "application/vnd.databricks.v1+cell": {
     "cellMetadata": {
      "byteLimit": 2048000,
      "rowLimit": 10000
     },
     "inputWidgets": {},
     "nuid": "de5b77c4-9de1-42eb-b6f8-3304f8b79354",
     "showTitle": false,
     "title": ""
    }
   },
   "outputs": [
    {
     "output_type": "stream",
     "name": "stderr",
     "output_type": "stream",
     "text": [
      "/databricks/python/lib/python3.9/site-packages/sklearn/utils/deprecation.py:87: FutureWarning: Function get_feature_names is deprecated; get_feature_names is deprecated in 1.0 and will be removed in 1.2. Please use get_feature_names_out instead.\n  warnings.warn(msg, category=FutureWarning)\n"
     ]
    },
    {
     "output_type": "stream",
     "name": "stdout",
     "output_type": "stream",
     "text": [
      "Out[20]: ['aboard',\n 'abondante',\n 'abound',\n 'abounding',\n 'abounds',\n 'abouriou',\n 'abracadabra',\n 'abrasive',\n 'abrasiveness',\n 'abreu',\n 'abroad',\n 'abrupt',\n 'abruptly',\n 'abruzzi',\n 'abruzzo',\n 'absence',\n 'absent',\n 'absolute',\n 'absolutely',\n 'absorb',\n 'absorbed',\n 'absorbs',\n 'abstberg',\n 'absurd',\n 'abtsberg']"
     ]
    }
   ],
   "source": [
    "word_features = vectorizer.get_feature_names()\n",
    "word_features[550:575]"
   ]
  },
  {
   "cell_type": "code",
   "execution_count": 0,
   "metadata": {
    "application/vnd.databricks.v1+cell": {
     "cellMetadata": {
      "byteLimit": 2048000,
      "rowLimit": 10000
     },
     "inputWidgets": {},
     "nuid": "e75c2b8d-7bfc-4c42-baa3-588e805dbb67",
     "showTitle": false,
     "title": ""
    }
   },
   "outputs": [],
   "source": [
    "stemmer = SnowballStemmer('english')\n",
    "tokenizer = RegexpTokenizer(r'[a-zA-Z\\']+')\n",
    "\n",
    "def tokenize(text):\n",
    "    return [stemmer.stem(word) for word in tokenizer.tokenize(text.lower())]"
   ]
  },
  {
   "cell_type": "markdown",
   "metadata": {
    "application/vnd.databricks.v1+cell": {
     "cellMetadata": {
      "byteLimit": 2048000,
      "rowLimit": 10000
     },
     "inputWidgets": {},
     "nuid": "9650d813-fdb8-45d0-aba8-cea92a14272d",
     "showTitle": false,
     "title": ""
    }
   },
   "source": [
    "After writing the function, I pass it through as an argument when instantiating the vectorizer."
   ]
  },
  {
   "cell_type": "code",
   "execution_count": 0,
   "metadata": {
    "application/vnd.databricks.v1+cell": {
     "cellMetadata": {
      "byteLimit": 2048000,
      "rowLimit": 10000
     },
     "inputWidgets": {},
     "nuid": "4922d1ec-dca7-49e7-8315-dfccef82a1b4",
     "showTitle": false,
     "title": ""
    }
   },
   "outputs": [
    {
     "output_type": "stream",
     "name": "stderr",
     "output_type": "stream",
     "text": [
      "/databricks/python/lib/python3.9/site-packages/sklearn/feature_extraction/text.py:396: UserWarning: Your stop_words may be inconsistent with your preprocessing. Tokenizing the stop words generated tokens ['abov', 'afterward', 'alon', 'alreadi', 'alway', 'ani', 'anoth', 'anyon', 'anyth', 'anywher', 'becam', 'becaus', 'becom', 'befor', 'besid', 'cri', 'describ', 'dure', 'els', 'elsewher', 'empti', 'everi', 'everyon', 'everyth', 'everywher', 'fifti', 'forti', 'henc', 'hereaft', 'herebi', 'howev', 'hundr', 'inde', 'mani', 'meanwhil', 'moreov', 'nobodi', 'noon', 'noth', 'nowher', 'onc', 'onli', 'otherwis', 'ourselv', 'perhap', 'pleas', 'sever', 'sinc', 'sincer', 'sixti', 'someon', 'someth', 'sometim', 'somewher', 'themselv', 'thenc', 'thereaft', 'therebi', 'therefor', 'togeth', 'twelv', 'twenti', 'veri', 'whatev', 'whenc', 'whenev', 'wherea', 'whereaft', 'wherebi', 'wherev', 'whi', 'yourselv'] not in stop_words.\n  warnings.warn(\n"
     ]
    },
    {
     "output_type": "stream",
     "name": "stdout",
     "output_type": "stream",
     "text": [
      "Out[22]: [\"'s\",\n \"a'\",\n \"a'plenti\",\n 'aa',\n 'aah',\n 'aand',\n 'aaron',\n 'abacela',\n 'abad',\n 'abadia',\n 'abandon',\n 'abarbanel',\n 'abbacchio',\n 'abbay',\n 'abbey',\n 'abbinar',\n 'abboccato',\n 'abbott',\n 'abbrevi',\n 'abbuoto',\n 'abc',\n 'abeill',\n 'abeja',\n 'abernathi',\n 'aberr',\n 'abetina',\n 'abey',\n 'abil',\n 'abl',\n 'abli',\n 'abnorm',\n 'aboard',\n 'abondant',\n 'abound',\n 'abouriou',\n 'abov',\n 'abracadabra',\n 'abras',\n 'abreu',\n 'abroad',\n 'abrupt',\n 'abruzzi',\n 'abruzzo',\n 'absenc',\n 'absent',\n 'absolut',\n 'absorb',\n 'abstberg',\n 'absurd',\n 'abtsberg']"
     ]
    }
   ],
   "source": [
    "vectorizer2 = TfidfVectorizer(stop_words = stop_words, tokenizer = tokenize)\n",
    "X2 = vectorizer2.fit_transform(desc)\n",
    "word_features2 = vectorizer2.get_feature_names()\n",
    "word_features2[:50]"
   ]
  },
  {
   "cell_type": "markdown",
   "metadata": {
    "application/vnd.databricks.v1+cell": {
     "cellMetadata": {
      "byteLimit": 2048000,
      "rowLimit": 10000
     },
     "inputWidgets": {},
     "nuid": "57cba0eb-cb09-4b98-a4e6-487a4126082e",
     "showTitle": false,
     "title": ""
    }
   },
   "source": [
    "So far I've adjusted the stop words, included stemming, and further limited our token feature space with regular expressions. Below, I take it one step further by adjusting the max_features parameter in the tf-idf vectorizer, which selects only the top max_features tokens ordered by their frequencies in the corpus to be included in the vectorizing."
   ]
  },
  {
   "cell_type": "code",
   "execution_count": 0,
   "metadata": {
    "application/vnd.databricks.v1+cell": {
     "cellMetadata": {
      "byteLimit": 2048000,
      "rowLimit": 10000
     },
     "inputWidgets": {},
     "nuid": "c8798447-6ca8-4585-9755-d272949d4c43",
     "showTitle": false,
     "title": ""
    }
   },
   "outputs": [],
   "source": [
    "vectorizer3 = TfidfVectorizer(stop_words = stop_words, tokenizer = tokenize, max_features = 1000)\n",
    "X3 = vectorizer3.fit_transform(desc)\n",
    "words = vectorizer3.get_feature_names()"
   ]
  },
  {
   "cell_type": "code",
   "execution_count": 0,
   "metadata": {
    "application/vnd.databricks.v1+cell": {
     "cellMetadata": {
      "byteLimit": 2048000,
      "rowLimit": 10000
     },
     "inputWidgets": {},
     "nuid": "28944b1d-74d7-494c-97c8-cd4240a9d8cd",
     "showTitle": false,
     "title": ""
    }
   },
   "outputs": [
    {
     "output_type": "display_data",
     "data": {
      "text/html": [
       "<div>\n",
       "<style scoped>\n",
       "    .dataframe tbody tr th:only-of-type {\n",
       "        vertical-align: middle;\n",
       "    }\n",
       "\n",
       "    .dataframe tbody tr th {\n",
       "        vertical-align: top;\n",
       "    }\n",
       "\n",
       "    .dataframe thead th {\n",
       "        text-align: right;\n",
       "    }\n",
       "</style>\n",
       "<table border=\"1\" class=\"dataframe\">\n",
       "  <thead>\n",
       "    <tr style=\"text-align: right;\">\n",
       "      <th></th>\n",
       "      <th>Unnamed: 0</th>\n",
       "      <th>country</th>\n",
       "      <th>description</th>\n",
       "      <th>designation</th>\n",
       "      <th>points</th>\n",
       "      <th>price</th>\n",
       "      <th>province</th>\n",
       "      <th>region_1</th>\n",
       "      <th>region_2</th>\n",
       "      <th>variety</th>\n",
       "      <th>winery</th>\n",
       "    </tr>\n",
       "  </thead>\n",
       "  <tbody>\n",
       "    <tr>\n",
       "      <th>0</th>\n",
       "      <td>0</td>\n",
       "      <td>US</td>\n",
       "      <td>This tremendous 100% varietal wine hails from ...</td>\n",
       "      <td>Martha's Vineyard</td>\n",
       "      <td>96</td>\n",
       "      <td>235.0</td>\n",
       "      <td>California</td>\n",
       "      <td>Napa Valley</td>\n",
       "      <td>Napa</td>\n",
       "      <td>Cabernet Sauvignon</td>\n",
       "      <td>Heitz</td>\n",
       "    </tr>\n",
       "    <tr>\n",
       "      <th>2</th>\n",
       "      <td>2</td>\n",
       "      <td>US</td>\n",
       "      <td>Mac Watson honors the memory of a wine once ma...</td>\n",
       "      <td>Special Selected Late Harvest</td>\n",
       "      <td>96</td>\n",
       "      <td>90.0</td>\n",
       "      <td>California</td>\n",
       "      <td>Knights Valley</td>\n",
       "      <td>Sonoma</td>\n",
       "      <td>Sauvignon Blanc</td>\n",
       "      <td>Macauley</td>\n",
       "    </tr>\n",
       "    <tr>\n",
       "      <th>3</th>\n",
       "      <td>3</td>\n",
       "      <td>US</td>\n",
       "      <td>This spent 20 months in 30% new French oak, an...</td>\n",
       "      <td>Reserve</td>\n",
       "      <td>96</td>\n",
       "      <td>65.0</td>\n",
       "      <td>Oregon</td>\n",
       "      <td>Willamette Valley</td>\n",
       "      <td>Willamette Valley</td>\n",
       "      <td>Pinot Noir</td>\n",
       "      <td>Ponzi</td>\n",
       "    </tr>\n",
       "    <tr>\n",
       "      <th>8</th>\n",
       "      <td>8</td>\n",
       "      <td>US</td>\n",
       "      <td>This re-named vineyard was formerly bottled as...</td>\n",
       "      <td>Silice</td>\n",
       "      <td>95</td>\n",
       "      <td>65.0</td>\n",
       "      <td>Oregon</td>\n",
       "      <td>Chehalem Mountains</td>\n",
       "      <td>Willamette Valley</td>\n",
       "      <td>Pinot Noir</td>\n",
       "      <td>Bergström</td>\n",
       "    </tr>\n",
       "    <tr>\n",
       "      <th>9</th>\n",
       "      <td>9</td>\n",
       "      <td>US</td>\n",
       "      <td>The producer sources from two blocks of the vi...</td>\n",
       "      <td>Gap's Crown Vineyard</td>\n",
       "      <td>95</td>\n",
       "      <td>60.0</td>\n",
       "      <td>California</td>\n",
       "      <td>Sonoma Coast</td>\n",
       "      <td>Sonoma</td>\n",
       "      <td>Pinot Noir</td>\n",
       "      <td>Blue Farm</td>\n",
       "    </tr>\n",
       "  </tbody>\n",
       "</table>\n",
       "</div>"
      ]
     },
     "metadata": {
      "application/vnd.databricks.v1+output": {
       "addedWidgets": {},
       "arguments": {},
       "data": "<div>\n<style scoped>\n    .dataframe tbody tr th:only-of-type {\n        vertical-align: middle;\n    }\n\n    .dataframe tbody tr th {\n        vertical-align: top;\n    }\n\n    .dataframe thead th {\n        text-align: right;\n    }\n</style>\n<table border=\"1\" class=\"dataframe\">\n  <thead>\n    <tr style=\"text-align: right;\">\n      <th></th>\n      <th>Unnamed: 0</th>\n      <th>country</th>\n      <th>description</th>\n      <th>designation</th>\n      <th>points</th>\n      <th>price</th>\n      <th>province</th>\n      <th>region_1</th>\n      <th>region_2</th>\n      <th>variety</th>\n      <th>winery</th>\n    </tr>\n  </thead>\n  <tbody>\n    <tr>\n      <th>0</th>\n      <td>0</td>\n      <td>US</td>\n      <td>This tremendous 100% varietal wine hails from ...</td>\n      <td>Martha's Vineyard</td>\n      <td>96</td>\n      <td>235.0</td>\n      <td>California</td>\n      <td>Napa Valley</td>\n      <td>Napa</td>\n      <td>Cabernet Sauvignon</td>\n      <td>Heitz</td>\n    </tr>\n    <tr>\n      <th>2</th>\n      <td>2</td>\n      <td>US</td>\n      <td>Mac Watson honors the memory of a wine once ma...</td>\n      <td>Special Selected Late Harvest</td>\n      <td>96</td>\n      <td>90.0</td>\n      <td>California</td>\n      <td>Knights Valley</td>\n      <td>Sonoma</td>\n      <td>Sauvignon Blanc</td>\n      <td>Macauley</td>\n    </tr>\n    <tr>\n      <th>3</th>\n      <td>3</td>\n      <td>US</td>\n      <td>This spent 20 months in 30% new French oak, an...</td>\n      <td>Reserve</td>\n      <td>96</td>\n      <td>65.0</td>\n      <td>Oregon</td>\n      <td>Willamette Valley</td>\n      <td>Willamette Valley</td>\n      <td>Pinot Noir</td>\n      <td>Ponzi</td>\n    </tr>\n    <tr>\n      <th>8</th>\n      <td>8</td>\n      <td>US</td>\n      <td>This re-named vineyard was formerly bottled as...</td>\n      <td>Silice</td>\n      <td>95</td>\n      <td>65.0</td>\n      <td>Oregon</td>\n      <td>Chehalem Mountains</td>\n      <td>Willamette Valley</td>\n      <td>Pinot Noir</td>\n      <td>Bergström</td>\n    </tr>\n    <tr>\n      <th>9</th>\n      <td>9</td>\n      <td>US</td>\n      <td>The producer sources from two blocks of the vi...</td>\n      <td>Gap's Crown Vineyard</td>\n      <td>95</td>\n      <td>60.0</td>\n      <td>California</td>\n      <td>Sonoma Coast</td>\n      <td>Sonoma</td>\n      <td>Pinot Noir</td>\n      <td>Blue Farm</td>\n    </tr>\n  </tbody>\n</table>\n</div>",
       "datasetInfos": [],
       "metadata": {},
       "removedWidgets": [],
       "textData": null,
       "type": "htmlSandbox"
      }
     },
     "output_type": "display_data"
    }
   ],
   "source": [
    "variety_df.head()"
   ]
  },
  {
   "cell_type": "markdown",
   "metadata": {
    "application/vnd.databricks.v1+cell": {
     "cellMetadata": {
      "byteLimit": 2048000,
      "rowLimit": 10000
     },
     "inputWidgets": {},
     "nuid": "be6fa9ca-9163-45a3-98e8-9a8fb904bafb",
     "showTitle": false,
     "title": ""
    }
   },
   "source": [
    "#####kMeans Clustering\n",
    "Now that the text preprocessing is done, I can finally apply the kMeans algorithm to cluster the description vectors."
   ]
  },
  {
   "cell_type": "code",
   "execution_count": 0,
   "metadata": {
    "application/vnd.databricks.v1+cell": {
     "cellMetadata": {
      "byteLimit": 2048000,
      "rowLimit": 10000
     },
     "inputWidgets": {},
     "nuid": "e2340263-c014-492e-a2b2-6bfbd5155dbe",
     "showTitle": false,
     "title": ""
    }
   },
   "outputs": [
    {
     "output_type": "stream",
     "name": "stderr",
     "output_type": "stream",
     "text": [
      "Exception ignored on calling ctypes callback function: <function _ThreadpoolInfo._find_modules_with_dl_iterate_phdr.<locals>.match_module_callback at 0x7fe4c9173310>\nTraceback (most recent call last):\n  File \"/databricks/python/lib/python3.9/site-packages/threadpoolctl.py\", line 400, in match_module_callback\n    self._make_module_from_path(filepath)\n  File \"/databricks/python/lib/python3.9/site-packages/threadpoolctl.py\", line 515, in _make_module_from_path\n    module = module_class(filepath, prefix, user_api, internal_api)\n  File \"/databricks/python/lib/python3.9/site-packages/threadpoolctl.py\", line 606, in __init__\n    self.version = self.get_version()\n  File \"/databricks/python/lib/python3.9/site-packages/threadpoolctl.py\", line 646, in get_version\n    config = get_config().split()\nAttributeError: 'NoneType' object has no attribute 'split'\n"
     ]
    },
    {
     "output_type": "stream",
     "name": "stdout",
     "output_type": "stream",
     "text": [
      "Out[29]: KMeans(n_clusters=15, n_init=5)"
     ]
    }
   ],
   "source": [
    "kmeans = KMeans(n_clusters = 15, n_init = 5)\n",
    "kmeans.fit(X3)"
   ]
  },
  {
   "cell_type": "markdown",
   "metadata": {
    "application/vnd.databricks.v1+cell": {
     "cellMetadata": {
      "byteLimit": 2048000,
      "rowLimit": 10000
     },
     "inputWidgets": {},
     "nuid": "243d1e77-bc21-4cad-817c-c41fc1148ba6",
     "showTitle": false,
     "title": ""
    }
   },
   "source": [
    "The model has a cluster centers attribute that returns the coordinates of each of the k cluster centroids. Each token in the vectorizer we created earlier has a dimension or coordinate in the centroid and represents its relative frequency within that cluster. So to find the words with the highest frequency in a cluster, we have to locate the indices of the highest values of the centroid, which then correspond to the indices of the tokens in the vectorizer. Below I find the indices of the top ten frequented words in each cluster and print these words out.\n",
    "\n",
    "Now we see 15 groups of words that tend to be used with each other in the wine descriptions. Cluster 6, for example, seems to describe wines that are more citrusy and acidic."
   ]
  },
  {
   "cell_type": "code",
   "execution_count": 0,
   "metadata": {
    "application/vnd.databricks.v1+cell": {
     "cellMetadata": {
      "byteLimit": 2048000,
      "rowLimit": 10000
     },
     "inputWidgets": {},
     "nuid": "16f796f2-f7df-41ed-91b6-c0d1068f6554",
     "showTitle": false,
     "title": ""
    }
   },
   "outputs": [
    {
     "output_type": "stream",
     "name": "stdout",
     "output_type": "stream",
     "text": [
      "0 : wine, age, fruit, wood, structur, tannin, year, rich, ripe, firm\n1 : sweet, cherri, flavor, simpl, tast, soft, like, raspberri, candi, wine\n2 : berri, aroma, plum, finish, palat, flavor, feel, herbal, red, nose\n3 : pinot, noir, cherri, cola, silki, flavor, raspberri, dri, acid, drink\n4 : blackberri, currant, dri, tannin, flavor, rich, cherri, drink, wine, cabernet\n5 : bit, flavor, finish, fruit, cherri, wine, palat, dri, aroma, tannin\n6 : wine, fruit, flavor, cherri, red, finish, spice, tannin, aroma, berri\n7 : blanc, sauvignon, flavor, citrus, crisp, acid, green, lime, grapefruit, wine\n8 : appl, citrus, finish, peach, flavor, palat, lime, lemon, riesl, miner\n9 : chardonnay, pineappl, butter, flavor, toast, vanilla, oak, acid, pear, rich\n10 : oak, new, fruit, wine, flavor, french, cherri, vanilla, age, finish\n11 : cabernet, sauvignon, blend, merlot, franc, petit, verdot, wine, syrah, cherri\n12 : sampl, barrel, wine, tannin, fruit, ripe, wood, structur, juici, veri\n13 : wine, fresh, acid, fruiti, fruit, light, crisp, attract, drink, soft\n14 : black, cherri, palat, aroma, tannin, fruit, pepper, plum, dark, spice\n"
     ]
    }
   ],
   "source": [
    "common_words = kmeans.cluster_centers_.argsort()[:,-1:-11:-1]\n",
    "for num, centroid in enumerate(common_words):\n",
    "    print(str(num) + ' : ' + ', '.join(words[word] for word in centroid))"
   ]
  },
  {
   "cell_type": "markdown",
   "metadata": {
    "application/vnd.databricks.v1+cell": {
     "cellMetadata": {
      "byteLimit": 2048000,
      "rowLimit": 10000
     },
     "inputWidgets": {},
     "nuid": "815b001a-4389-45c9-824b-cc6f636f75d1",
     "showTitle": false,
     "title": ""
    }
   },
   "source": [
    "Now I want to take a deeper look at each cluster. I want to see if there is one wine variation more prevalant than others in each of the clusters the kMeans algorithm found.\n",
    "\n",
    "Below I created a heatmap that maps out each of the 15 wine variations and their counts in each of the 15 clusters. It appears that Cabernet Sauvignon is very present in cluster 13, Chardonay in cluster 12, Pinot Noir in cluster 0, and Riesling in cluster 1. Zinfandel might be highly described by cluster 8 since there are a lot of entries for this type in this cluster relative to the total number of entries in the dataset. The words associated in these clusters were very common in desribing these wines."
   ]
  },
  {
   "cell_type": "code",
   "execution_count": 0,
   "metadata": {
    "application/vnd.databricks.v1+cell": {
     "cellMetadata": {
      "byteLimit": 2048000,
      "rowLimit": 10000
     },
     "inputWidgets": {},
     "nuid": "a2b88c5f-9059-41f9-8af5-09dba6127703",
     "showTitle": false,
     "title": ""
    }
   },
   "outputs": [],
   "source": [
    "variety_df['cluster'] = kmeans.labels_"
   ]
  },
  {
   "cell_type": "code",
   "execution_count": 0,
   "metadata": {
    "application/vnd.databricks.v1+cell": {
     "cellMetadata": {
      "byteLimit": 2048000,
      "rowLimit": 10000
     },
     "inputWidgets": {},
     "nuid": "8b74b4d0-b82c-4967-898f-17413f6d555f",
     "showTitle": false,
     "title": ""
    }
   },
   "outputs": [
    {
     "output_type": "display_data",
     "data": {
      "image/png": "[encoded data removed]"
     },
     "metadata": {
      "application/vnd.databricks.v1+output": {
       "addedWidgets": {},
       "arguments": {},
       "data": "data:image/png;base64,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\n",
       "datasetInfos": [],
       "metadata": {},
       "removedWidgets": [],
       "type": "image"
      }
     },
     "output_type": "display_data"
    }
   ],
   "source": [
    "clusters = variety_df.groupby(['cluster', 'variety']).size()\n",
    "fig2, ax2 = plt.subplots(figsize = (12, 10))\n",
    "sns.heatmap(clusters.unstack(level = 'variety'), ax = ax2, cmap = 'Reds')\n",
    "\n",
    "ax2.set_xlabel('variety', fontdict = {'weight': 'bold', 'size': 24})\n",
    "ax2.set_ylabel('cluster', fontdict = {'weight': 'bold', 'size': 24})\n",
    "for label in ax2.get_xticklabels():\n",
    "    label.set_size(16)\n",
    "    label.set_weight(\"bold\")\n",
    "for label in ax2.get_yticklabels():\n",
    "    label.set_size(16)\n",
    "    label.set_weight(\"bold\")"
   ]
  },
  {
   "cell_type": "markdown",
   "metadata": {
    "application/vnd.databricks.v1+cell": {
     "cellMetadata": {
      "byteLimit": 2048000,
      "rowLimit": 10000
     },
     "inputWidgets": {},
     "nuid": "e485d0e3-45c4-45f0-9796-8dbbd1f14d57",
     "showTitle": false,
     "title": ""
    }
   },
   "source": [
    "#####Conclusion\n",
    "\n",
    "Although kMeans didn't find a one-to-one relationship between each of the 15 wine types and clusters, we were still able to come up with clusters that greatly represented certain wines like Cabernet, Chardonay, Pinot Noir, and Riesling. This allows us to see how people are generally describing these kinds of wines, which is pretty cool! It might not have been the most useful in this case, but this type of analysis can definitely be done on other data involving reviews, etc. If we worked for a restaurant, we could determine what are some common things said in the reviews to help us know what we're doing right and what we're doing wrong so we can take action.\n",
    "\n",
    "I didn't add any stop words for this analysis but after looking at the top 10 words in each cluster, I can think of at least a couple I could have included. For instance, the word 'flavor' appears in almost all of the clusters. I would say that this word doesn't give any useful information regarding the description so if I re-ran everything again, I would definitely add this to the stop words list. You also probably noticed that some of the descriptions actually had the wine name in them. I decided to keep these in because I was thinking that it would be easier to identify which words appeared more with certain wine varieties written in the description. The wine types can also be considered to be included in the stop words list.\n",
    "\n",
    "Another thing to play with is the hyperparameter k i.e. the number of clusters we want the algorithm to group. For this case, I had an idea that 15 groups would be ideal since I had 15 different kinds of wine. There are many situations, however, where you don't really have an idea of how many you should pick. 8 is the default with sklearn but another way to determine k is through the use of an elbow plot, which involves the within cluster variance I mentioned earlier."
   ]
  }
 ],
 "metadata": {
  "application/vnd.databricks.v1+notebook": {
   "dashboards": [],
   "language": "python",
   "notebookMetadata": {
    "pythonIndentUnit": 2
   },
   "notebookName": "Wine clustering using NLP and KMeans",
   "widgets": {}
  }
 },
 "nbformat": 4,
 "nbformat_minor": 0
}
